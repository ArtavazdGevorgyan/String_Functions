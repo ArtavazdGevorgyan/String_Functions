{
  "cells": [
    {
      "cell_type": "code",
      "source": [
        "def capitalize_(inp):\n",
        "    if 96 < ord(inp[0]) < 123:\n",
        "        res=chr(ord(inp[0])-32)\n",
        "        for i in range(1,len(inp)):\n",
        "            res+=inp[i]\n",
        "        return res\n",
        "    return inp"
      ],
      "metadata": {
        "id": "ERz95RCRMfYt"
      },
      "execution_count": null,
      "outputs": []
    },
    {
      "cell_type": "code",
      "source": [
        "def count_(searchin, word,start=0, end=0):\n",
        "    if end==0:\n",
        "        end=len(searchin)\n",
        "    res=0\n",
        "    for i in range(start,end-len(word)+1):\n",
        "        if searchin[i:i+len(word)]==word:\n",
        "            res+=1\n",
        "    return res"
      ],
      "metadata": {
        "id": "qowx-sYzg_eX"
      },
      "execution_count": null,
      "outputs": []
    },
    {
      "cell_type": "code",
      "source": [
        "def endswith_(searchin, word):\n",
        "    if searchin[len(searchin)-len(word):len(searchin)]==word:\n",
        "        return True\n",
        "    return False"
      ],
      "metadata": {
        "id": "cioPYxD_n30p"
      },
      "execution_count": null,
      "outputs": []
    },
    {
      "cell_type": "code",
      "source": [
        "def find_(searchin, word,start=0, end=0):\n",
        "    if end==0:\n",
        "        end=len(searchin)\n",
        "    for i in range(start,end-len(word)+1):\n",
        "        if searchin[i:i+len(word)]==word:\n",
        "            return i "
      ],
      "metadata": {
        "id": "zXKVGF3grtH7"
      },
      "execution_count": null,
      "outputs": []
    },
    {
      "cell_type": "code",
      "source": [
        "def join_(char, iter):\n",
        "    res=iter[0]\n",
        "    for i in range(1,len(iter)):\n",
        "        res+=char + iter[i]\n",
        "    return res"
      ],
      "metadata": {
        "id": "LaG11HnLxIef"
      },
      "execution_count": null,
      "outputs": []
    },
    {
      "cell_type": "code",
      "source": [
        "def replace_(inp,word,toword,rep=-1):\n",
        "    while rep:\n",
        "        end=len(inp)\n",
        "        start=0\n",
        "        duplicate=''\n",
        "        k=-1\n",
        "        for i in range(start,end-len(word)+1):\n",
        "            if inp[i:i+len(word)]==word:\n",
        "                k = i\n",
        "                break\n",
        "        if k==-1:\n",
        "            break\n",
        "        i=0\n",
        "        while i<end:\n",
        "            if k==i:\n",
        "                duplicate+=toword\n",
        "                i=k+len(word)\n",
        "            else:\n",
        "                duplicate+=inp[i]\n",
        "                i+=1\n",
        "        inp=duplicate\n",
        "        rep-=1\n",
        "    return inp"
      ],
      "metadata": {
        "id": "VzNLW-t7sOXT"
      },
      "execution_count": null,
      "outputs": []
    },
    {
      "cell_type": "code",
      "source": [
        "def rfind_(searchin, word,start=0, end=0):\n",
        "    if end==0:\n",
        "        end =len(searchin)\n",
        "    j=0\n",
        "    for i in range(start,end-len(word)+1):\n",
        "        if searchin[end - j : end - j - len(word) :-1]==word[::-1]:\n",
        "            return end - len(word) - j+1\n",
        "        j+=1"
      ],
      "metadata": {
        "id": "6QJOnDKesOO7"
      },
      "execution_count": null,
      "outputs": []
    },
    {
      "cell_type": "code",
      "source": [
        "def startswith_(searchin, word):\n",
        "    if searchin[0:len(word)]==word:\n",
        "        return True\n",
        "    return False"
      ],
      "metadata": {
        "id": "aA-J_HD0sOG7"
      },
      "execution_count": null,
      "outputs": []
    },
    {
      "cell_type": "code",
      "source": [
        "def strip_(word, charstoremove=' '):\n",
        "    count=0\n",
        "    for i in range(0,len(word)):\n",
        "        if (word[i] not in charstoremove) and count==0: \n",
        "            k=i\n",
        "            count+=1\n",
        "        if word[i] not in charstoremove:\n",
        "            m=i\n",
        "    return word[k:m+1]"
      ],
      "metadata": {
        "id": "WN8db9RUsN0k"
      },
      "execution_count": null,
      "outputs": []
    },
    {
      "cell_type": "code",
      "source": [
        "def lower_(inp):\n",
        "    res=''\n",
        "    for i in inp:\n",
        "        if 64<ord(i)<91:\n",
        "            res+=chr(ord(i)+32)\n",
        "        else:\n",
        "            res+=i\n",
        "    return res"
      ],
      "metadata": {
        "id": "BaWUoh4cVTe-"
      },
      "execution_count": null,
      "outputs": []
    }
  ],
  "metadata": {
    "colab": {
      "collapsed_sections": [],
      "name": "String Functions",
      "provenance": []
    },
    "kernelspec": {
      "display_name": "Python 3",
      "name": "python3"
    }
  },
  "nbformat": 4,
  "nbformat_minor": 0
}